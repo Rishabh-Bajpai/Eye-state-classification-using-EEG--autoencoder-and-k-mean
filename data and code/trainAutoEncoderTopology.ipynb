{
 "cells": [
  {
   "cell_type": "code",
   "execution_count": 1,
   "metadata": {
    "colab": {
     "base_uri": "https://localhost:8080/",
     "height": 52
    },
    "colab_type": "code",
    "id": "t9VkcMFBfzET",
    "outputId": "1571ec2f-e21b-408a-ddf5-2c5fd7d7c09f"
   },
   "outputs": [
    {
     "name": "stderr",
     "output_type": "stream",
     "text": [
      "Using TensorFlow backend.\n"
     ]
    },
    {
     "data": {
      "text/plain": [
       "'%load_ext tensorboard\\nimport tensorflow as tf\\nimport datetime, os'"
      ]
     },
     "execution_count": 1,
     "metadata": {
      "tags": []
     },
     "output_type": "execute_result"
    }
   ],
   "source": [
    "import scipy.io as sio\n",
    "import pandas as pd\n",
    "import os\n",
    "import numpy as np\n",
    "import re\n",
    "import keras\n",
    "from keras.models import Model, Sequential\n",
    "from keras.layers import Flatten, Dense, Input, Conv2D, MaxPooling2D, Dropout, Add, BatchNormalization,Conv1D, advanced_activations, UpSampling2D\n",
    "from keras.callbacks import ModelCheckpoint\n",
    "import matplotlib.pyplot as plt\n",
    "from keras.optimizers import Adam, SGD\n",
    "from sklearn.metrics import mean_absolute_error, classification_report, max_error, median_absolute_error\n",
    "from sklearn.model_selection import train_test_split\n",
    "from sklearn.preprocessing import StandardScaler\n",
    "from sklearn.decomposition import PCA\n",
    "'''%load_ext tensorboard\n",
    "import tensorflow as tf\n",
    "import datetime, os'''"
   ]
  },
  {
   "cell_type": "markdown",
   "metadata": {
    "colab_type": "text",
    "id": "ZHVQiR9afzEf"
   },
   "source": [
    "Load and preprocess data"
   ]
  },
  {
   "cell_type": "code",
   "execution_count": 2,
   "metadata": {
    "colab": {
     "base_uri": "https://localhost:8080/",
     "height": 141
    },
    "colab_type": "code",
    "id": "pF7_PODYC3BB",
    "outputId": "20780b7d-8416-4888-ae52-9148e74dcc99"
   },
   "outputs": [
    {
     "name": "stdout",
     "output_type": "stream",
     "text": [
      "Archive:  /content/85318_196940_bundle_archive.zip\n",
      "  inflating: eeg_clean.csv           \n",
      "(14, 8257)\n",
      "(14, 6723)\n",
      "(114, 14, 1024)\n",
      "(87, 14, 1024)\n"
     ]
    },
    {
     "data": {
      "text/plain": [
       "(201, 14, 1024, 1)"
      ]
     },
     "execution_count": 2,
     "metadata": {
      "tags": []
     },
     "output_type": "execute_result"
    }
   ],
   "source": [
    "!unzip /content/85318_196940_bundle_archive.zip\n",
    "inputData = pd.read_csv(r\"/content/eeg_clean.csv\");\n",
    "#print(inputData.dtypes)\n",
    "#print(inputData.columns)\n",
    "#print(\"Data shape:\",inputData.shape)\n",
    "#print(inputData.head())\n",
    "#print(inputData.describe())\n",
    "#print(inputData.info())\n",
    "# Check for any nulls\n",
    "#print(inputData.isnull().sum())\n",
    "inputData['eye']=inputData[\"eye\"].astype('category')\n",
    "inputData[\"eye\"] = inputData[\"eye\"].cat.codes\n",
    "\n",
    "data=inputData.to_numpy()\n",
    "temp=np.round(data[:,2])\n",
    "data[:,2]=data[:,14]\n",
    "data[:,14]=temp\n",
    "dataC=data[data[:,14]==0,0:14]\n",
    "dataO=data[data[:,14]==1,0:14]\n",
    "dataC=np.transpose(dataC)\n",
    "dataO=np.transpose(dataO)\n",
    "print(np.shape(dataO))\n",
    "print(np.shape(dataC))\n",
    "dataOMat=np.zeros((114,14,1024))\n",
    "dataCMat=np.zeros((87,14,1024))\n",
    "count=0\n",
    "for i in range(0,8257-1024,64):\n",
    "  dataOMat[count,:,:]=(dataO[:,i:i+1024]-np.mean(dataO[:,i:i+1024]))/np.std(dataO[:,i:i+1024])\n",
    "  count+=1\n",
    "count=0\n",
    "for i in range(0,6592-1024,64):\n",
    "  dataCMat[count,:,:]=(dataC[:,i:i+1024]-np.mean(dataC[:,i:i+1024]))/np.std(dataC[:,i:i+1024])\n",
    "  count+=1\n",
    "#print(count)\n",
    "print(np.shape(dataOMat))\n",
    "print(np.shape(dataCMat))\n",
    "dataX=np.append(dataOMat,dataCMat,axis=0)\n",
    "dataY=np.append(np.ones(114),np.zeros(87))\n",
    "dataX=np.reshape(dataX,(np.shape(dataX)[0],14,1024,1))\n",
    "np.shape(dataX)"
   ]
  },
  {
   "cell_type": "code",
   "execution_count": 3,
   "metadata": {
    "colab": {
     "base_uri": "https://localhost:8080/",
     "height": 1000
    },
    "colab_type": "code",
    "id": "EVJ5sLI3GQYK",
    "outputId": "e7295dc0-5d62-46fe-af00-868caf9045ee"
   },
   "outputs": [
    {
     "name": "stdout",
     "output_type": "stream",
     "text": [
      "Model: \"model_1\"\n",
      "_________________________________________________________________\n",
      "Layer (type)                 Output Shape              Param #   \n",
      "=================================================================\n",
      "input_1 (InputLayer)         (None, 14, 1024, 1)       0         \n",
      "_________________________________________________________________\n",
      "conv2d_1 (Conv2D)            (None, 14, 1024, 128)     1280      \n",
      "_________________________________________________________________\n",
      "leaky_re_lu_1 (LeakyReLU)    (None, 14, 1024, 128)     0         \n",
      "_________________________________________________________________\n",
      "max_pooling2d_1 (MaxPooling2 (None, 14, 512, 128)      0         \n",
      "_________________________________________________________________\n",
      "conv2d_2 (Conv2D)            (None, 14, 512, 64)       73792     \n",
      "_________________________________________________________________\n",
      "leaky_re_lu_2 (LeakyReLU)    (None, 14, 512, 64)       0         \n",
      "_________________________________________________________________\n",
      "max_pooling2d_2 (MaxPooling2 (None, 14, 256, 64)       0         \n",
      "_________________________________________________________________\n",
      "conv2d_3 (Conv2D)            (None, 14, 256, 32)       18464     \n",
      "_________________________________________________________________\n",
      "leaky_re_lu_3 (LeakyReLU)    (None, 14, 256, 32)       0         \n",
      "_________________________________________________________________\n",
      "max_pooling2d_3 (MaxPooling2 (None, 14, 128, 32)       0         \n",
      "_________________________________________________________________\n",
      "conv2d_4 (Conv2D)            (None, 14, 128, 8)        2312      \n",
      "_________________________________________________________________\n",
      "leaky_re_lu_4 (LeakyReLU)    (None, 14, 128, 8)        0         \n",
      "_________________________________________________________________\n",
      "max_pooling2d_4 (MaxPooling2 (None, 14, 64, 8)         0         \n",
      "_________________________________________________________________\n",
      "conv2d_5 (Conv2D)            (None, 14, 64, 2)         98        \n",
      "_________________________________________________________________\n",
      "leaky_re_lu_5 (LeakyReLU)    (None, 14, 64, 2)         0         \n",
      "_________________________________________________________________\n",
      "max_pooling2d_5 (MaxPooling2 (None, 14, 32, 2)         0         \n",
      "_________________________________________________________________\n",
      "conv2d_6 (Conv2D)            (None, 14, 32, 2)         26        \n",
      "_________________________________________________________________\n",
      "leaky_re_lu_6 (LeakyReLU)    (None, 14, 32, 2)         0         \n",
      "_________________________________________________________________\n",
      "up_sampling2d_1 (UpSampling2 (None, 14, 64, 2)         0         \n",
      "_________________________________________________________________\n",
      "conv2d_7 (Conv2D)            (None, 14, 64, 8)         152       \n",
      "_________________________________________________________________\n",
      "leaky_re_lu_7 (LeakyReLU)    (None, 14, 64, 8)         0         \n",
      "_________________________________________________________________\n",
      "up_sampling2d_2 (UpSampling2 (None, 14, 128, 8)        0         \n",
      "_________________________________________________________________\n",
      "conv2d_8 (Conv2D)            (None, 14, 128, 32)       2336      \n",
      "_________________________________________________________________\n",
      "leaky_re_lu_8 (LeakyReLU)    (None, 14, 128, 32)       0         \n",
      "_________________________________________________________________\n",
      "up_sampling2d_3 (UpSampling2 (None, 14, 256, 32)       0         \n",
      "_________________________________________________________________\n",
      "conv2d_9 (Conv2D)            (None, 14, 256, 64)       18496     \n",
      "_________________________________________________________________\n",
      "leaky_re_lu_9 (LeakyReLU)    (None, 14, 256, 64)       0         \n",
      "_________________________________________________________________\n",
      "up_sampling2d_4 (UpSampling2 (None, 14, 512, 64)       0         \n",
      "_________________________________________________________________\n",
      "conv2d_10 (Conv2D)           (None, 14, 512, 128)      73856     \n",
      "_________________________________________________________________\n",
      "leaky_re_lu_10 (LeakyReLU)   (None, 14, 512, 128)      0         \n",
      "_________________________________________________________________\n",
      "up_sampling2d_5 (UpSampling2 (None, 14, 1024, 128)     0         \n",
      "_________________________________________________________________\n",
      "conv2d_11 (Conv2D)           (None, 14, 1024, 1)       1153      \n",
      "=================================================================\n",
      "Total params: 191,965\n",
      "Trainable params: 191,965\n",
      "Non-trainable params: 0\n",
      "_________________________________________________________________\n"
     ]
    }
   ],
   "source": [
    "Input1=Input(shape=(14, 1024,1))\n",
    "x=(Conv2D(filters=128, kernel_size=(3,3), padding='same'))(Input1) # input shape is the shape of one sample\n",
    "x=(advanced_activations.LeakyReLU())(x)\n",
    "x=(MaxPooling2D(pool_size=(1, 2), padding='same'))(x)\n",
    "\n",
    "#model.add(Dropout(0.5))\n",
    "x=(Conv2D(filters=64, kernel_size=(3,3), padding='same'))(x)\n",
    "x=(advanced_activations.LeakyReLU())(x)\n",
    "x=(MaxPooling2D(pool_size=(1, 2), padding='same'))(x)\n",
    "\n",
    "#model.add(Dropout(0.5))\n",
    "x=(Conv2D(filters=32, kernel_size=(3,3), padding='same'))(x)\n",
    "x=(advanced_activations.LeakyReLU())(x)\n",
    "x=(MaxPooling2D(pool_size=(1, 2), padding='same'))(x)\n",
    "\n",
    "#model.add(Dropout(0.5))\n",
    "x=(Conv2D(filters=8, kernel_size=(3,3), padding='same'))(x)\n",
    "x=(advanced_activations.LeakyReLU())(x)\n",
    "x=(MaxPooling2D(pool_size=(1, 2), padding='same'))(x)\n",
    "\n",
    "x=(Conv2D(filters=2, kernel_size=(3,2), padding='same'))(x)\n",
    "x=(advanced_activations.LeakyReLU())(x)\n",
    "encoder=(MaxPooling2D(pool_size=(1, 2), padding='same'))(x)\n",
    "\n",
    "x=(Conv2D(filters=2, kernel_size=(3,2), padding='same'))(encoder)\n",
    "x=(advanced_activations.LeakyReLU())(x)\n",
    "x=(UpSampling2D((1, 2)))(x)\n",
    "\n",
    "x=(Conv2D(filters=8, kernel_size=(3,3), padding='same'))(x)\n",
    "x=(advanced_activations.LeakyReLU())(x)\n",
    "x=(UpSampling2D((1, 2)))(x)\n",
    "\n",
    "x=(Conv2D(filters=32, kernel_size=(3,3), padding='same'))(x)\n",
    "x=(advanced_activations.LeakyReLU())(x)\n",
    "x=(UpSampling2D((1, 2)))(x)\n",
    "\n",
    "x=(Conv2D(filters=64, kernel_size=(3,3), padding='same'))(x)\n",
    "x=(advanced_activations.LeakyReLU())(x)\n",
    "x=(UpSampling2D((1, 2)))(x)\n",
    "\n",
    "x=(Conv2D(filters=128, kernel_size=(3,3), padding='same'))(x)\n",
    "x=(advanced_activations.LeakyReLU())(x)\n",
    "x=(UpSampling2D((1, 2)))(x)\n",
    "\n",
    "decoder=(Conv2D(1, (3, 3), padding='same', activation='linear'))(x)\n",
    "\n",
    "model=Model(inputs=Input1,outputs=decoder)\n",
    "#model=Model(inputs=xInput,outputs=y)\n",
    "# Compile the model\n",
    "opt = SGD(lr=0.001, momentum=0.9) # learing rate can be changed \n",
    "model.compile(loss='mean_squared_error', optimizer= 'adam') # It is important to define metrics here to evaluate the model (see #4)\n",
    "#binary_crossentropy, Adam(lr=0.001)\n",
    "model.summary()\n"
   ]
  },
  {
   "cell_type": "code",
   "execution_count": 0,
   "metadata": {
    "colab": {},
    "colab_type": "code",
    "id": "QRxOT8tlXGFJ"
   },
   "outputs": [],
   "source": [
    "#train_x, test_x, train_y, test_y = train_test_split(dataX, dataY, test_size=0.05)\n",
    "train_x, val_x, train_y, val_y = train_test_split(dataX, dataY, test_size=0.2)"
   ]
  },
  {
   "cell_type": "code",
   "execution_count": 0,
   "metadata": {
    "colab": {},
    "colab_type": "code",
    "id": "bUtkBZx3tSMV"
   },
   "outputs": [],
   "source": [
    "model.load_weights('/content/Topology.hdf5')"
   ]
  },
  {
   "cell_type": "code",
   "execution_count": 5,
   "metadata": {
    "colab": {
     "base_uri": "https://localhost:8080/",
     "height": 1000
    },
    "colab_type": "code",
    "id": "0r2hOA2mTbJp",
    "outputId": "abcdaad9-8ea3-4654-fb51-3c19cfdf57cb"
   },
   "outputs": [
    {
     "name": "stdout",
     "output_type": "stream",
     "text": [
      "Train on 160 samples, validate on 41 samples\n",
      "Epoch 1/100\n",
      "160/160 [==============================] - 6s 39ms/step - loss: 0.2290 - val_loss: 0.1208\n",
      "Epoch 2/100\n",
      "160/160 [==============================] - 4s 26ms/step - loss: 0.1811 - val_loss: 0.1280\n",
      "Epoch 3/100\n",
      "160/160 [==============================] - 4s 25ms/step - loss: 0.1730 - val_loss: 0.0981\n",
      "Epoch 4/100\n",
      "160/160 [==============================] - 4s 25ms/step - loss: 0.1920 - val_loss: 0.0648\n",
      "Epoch 5/100\n",
      "160/160 [==============================] - 4s 26ms/step - loss: 0.1569 - val_loss: 0.0798\n",
      "Epoch 6/100\n",
      "160/160 [==============================] - 4s 26ms/step - loss: 0.1112 - val_loss: 0.0569\n",
      "Epoch 7/100\n",
      "160/160 [==============================] - 4s 26ms/step - loss: 0.1028 - val_loss: 0.0449\n",
      "Epoch 8/100\n",
      "160/160 [==============================] - 4s 26ms/step - loss: 0.0962 - val_loss: 0.0468\n",
      "Epoch 9/100\n",
      "160/160 [==============================] - 4s 26ms/step - loss: 0.0891 - val_loss: 0.0490\n",
      "Epoch 10/100\n",
      "160/160 [==============================] - 4s 26ms/step - loss: 0.0618 - val_loss: 0.0570\n",
      "Epoch 11/100\n",
      "160/160 [==============================] - 4s 26ms/step - loss: 0.0955 - val_loss: 0.0436\n",
      "Epoch 12/100\n",
      "160/160 [==============================] - 4s 25ms/step - loss: 0.0534 - val_loss: 0.0417\n",
      "Epoch 13/100\n",
      "160/160 [==============================] - 4s 25ms/step - loss: 0.0467 - val_loss: 0.0413\n",
      "Epoch 14/100\n",
      "160/160 [==============================] - 4s 26ms/step - loss: 0.0609 - val_loss: 0.0997\n",
      "Epoch 15/100\n",
      "160/160 [==============================] - 4s 26ms/step - loss: 0.0617 - val_loss: 0.0442\n",
      "Epoch 16/100\n",
      "160/160 [==============================] - 4s 25ms/step - loss: 0.0725 - val_loss: 0.0320\n",
      "Epoch 17/100\n",
      "160/160 [==============================] - 4s 25ms/step - loss: 0.0435 - val_loss: 0.0403\n",
      "Epoch 18/100\n",
      "160/160 [==============================] - 4s 25ms/step - loss: 0.0359 - val_loss: 0.0313\n",
      "Epoch 19/100\n",
      "160/160 [==============================] - 4s 25ms/step - loss: 0.0338 - val_loss: 0.0217\n",
      "Epoch 20/100\n",
      "160/160 [==============================] - 4s 25ms/step - loss: 0.0303 - val_loss: 0.0480\n",
      "Epoch 21/100\n",
      "160/160 [==============================] - 4s 25ms/step - loss: 0.0664 - val_loss: 0.0313\n",
      "Epoch 22/100\n",
      "160/160 [==============================] - 4s 25ms/step - loss: 0.0484 - val_loss: 0.0221\n",
      "Epoch 23/100\n",
      "160/160 [==============================] - 4s 25ms/step - loss: 0.0210 - val_loss: 0.0163\n",
      "Epoch 24/100\n",
      "160/160 [==============================] - 4s 26ms/step - loss: 0.0193 - val_loss: 0.0132\n",
      "Epoch 25/100\n",
      "160/160 [==============================] - 4s 25ms/step - loss: 0.0201 - val_loss: 0.0170\n",
      "Epoch 26/100\n",
      "160/160 [==============================] - 4s 26ms/step - loss: 0.0515 - val_loss: 0.0175\n",
      "Epoch 27/100\n",
      "160/160 [==============================] - 4s 27ms/step - loss: 0.0220 - val_loss: 0.0261\n",
      "Epoch 28/100\n",
      "160/160 [==============================] - 4s 27ms/step - loss: 0.0341 - val_loss: 0.0363\n",
      "Epoch 29/100\n",
      "160/160 [==============================] - 4s 25ms/step - loss: 0.0294 - val_loss: 0.0226\n",
      "Epoch 30/100\n",
      "160/160 [==============================] - 4s 25ms/step - loss: 0.0138 - val_loss: 0.0080\n",
      "Epoch 31/100\n",
      "160/160 [==============================] - 4s 25ms/step - loss: 0.0116 - val_loss: 0.0108\n",
      "Epoch 32/100\n",
      "160/160 [==============================] - 4s 25ms/step - loss: 0.0157 - val_loss: 0.0205\n",
      "Epoch 33/100\n",
      "160/160 [==============================] - 4s 25ms/step - loss: 0.0350 - val_loss: 0.0240\n",
      "Epoch 34/100\n",
      "160/160 [==============================] - 4s 25ms/step - loss: 0.1140 - val_loss: 0.0787\n",
      "Epoch 35/100\n",
      "160/160 [==============================] - 4s 25ms/step - loss: 0.0493 - val_loss: 0.0124\n",
      "Epoch 36/100\n",
      "160/160 [==============================] - 4s 25ms/step - loss: 0.0121 - val_loss: 0.0090\n",
      "Epoch 37/100\n",
      "160/160 [==============================] - 4s 26ms/step - loss: 0.0107 - val_loss: 0.0081\n",
      "Epoch 38/100\n",
      "160/160 [==============================] - 4s 25ms/step - loss: 0.0116 - val_loss: 0.0076\n",
      "Epoch 39/100\n",
      "160/160 [==============================] - 4s 25ms/step - loss: 0.0092 - val_loss: 0.0072\n",
      "Epoch 40/100\n",
      "160/160 [==============================] - 4s 26ms/step - loss: 0.0147 - val_loss: 0.0085\n",
      "Epoch 41/100\n",
      "160/160 [==============================] - 4s 26ms/step - loss: 0.0270 - val_loss: 0.0240\n",
      "Epoch 42/100\n",
      "160/160 [==============================] - 4s 26ms/step - loss: 0.0175 - val_loss: 0.0085\n",
      "Epoch 43/100\n",
      "160/160 [==============================] - 4s 25ms/step - loss: 0.0131 - val_loss: 0.0110\n",
      "Epoch 44/100\n",
      "160/160 [==============================] - 4s 26ms/step - loss: 0.0120 - val_loss: 0.0153\n",
      "Epoch 45/100\n",
      "160/160 [==============================] - 4s 25ms/step - loss: 0.0123 - val_loss: 0.0085\n",
      "Epoch 46/100\n",
      "160/160 [==============================] - 4s 26ms/step - loss: 0.0206 - val_loss: 0.0418\n",
      "Epoch 47/100\n",
      "160/160 [==============================] - 4s 25ms/step - loss: 0.0349 - val_loss: 0.0101\n",
      "Epoch 48/100\n",
      "160/160 [==============================] - 4s 25ms/step - loss: 0.0107 - val_loss: 0.0058\n",
      "Epoch 49/100\n",
      "160/160 [==============================] - 4s 25ms/step - loss: 0.0084 - val_loss: 0.0077\n",
      "Epoch 50/100\n",
      "160/160 [==============================] - 4s 25ms/step - loss: 0.0304 - val_loss: 0.0383\n",
      "Epoch 51/100\n",
      "160/160 [==============================] - 4s 26ms/step - loss: 0.0201 - val_loss: 0.0070\n",
      "Epoch 52/100\n",
      "160/160 [==============================] - 4s 26ms/step - loss: 0.0134 - val_loss: 0.0106\n",
      "Epoch 53/100\n",
      "160/160 [==============================] - 4s 26ms/step - loss: 0.0124 - val_loss: 0.0091\n",
      "Epoch 54/100\n",
      "160/160 [==============================] - 4s 26ms/step - loss: 0.0087 - val_loss: 0.0053\n",
      "Epoch 55/100\n",
      "160/160 [==============================] - 4s 26ms/step - loss: 0.0093 - val_loss: 0.0077\n",
      "Epoch 56/100\n",
      "160/160 [==============================] - 4s 26ms/step - loss: 0.0152 - val_loss: 0.0291\n",
      "Epoch 57/100\n",
      "160/160 [==============================] - 4s 26ms/step - loss: 0.0234 - val_loss: 0.0084\n",
      "Epoch 58/100\n",
      "160/160 [==============================] - 4s 25ms/step - loss: 0.0217 - val_loss: 0.0504\n",
      "Epoch 59/100\n",
      "160/160 [==============================] - 4s 25ms/step - loss: 0.0206 - val_loss: 0.0133\n",
      "Epoch 60/100\n",
      "160/160 [==============================] - 4s 25ms/step - loss: 0.0138 - val_loss: 0.0154\n",
      "Epoch 61/100\n",
      "160/160 [==============================] - 4s 26ms/step - loss: 0.0161 - val_loss: 0.0079\n",
      "Epoch 62/100\n",
      "160/160 [==============================] - 4s 25ms/step - loss: 0.0165 - val_loss: 0.0297\n",
      "Epoch 63/100\n",
      "160/160 [==============================] - 4s 26ms/step - loss: 0.0113 - val_loss: 0.0056\n",
      "Epoch 64/100\n",
      "160/160 [==============================] - 4s 25ms/step - loss: 0.0108 - val_loss: 0.0299\n",
      "Epoch 65/100\n",
      "160/160 [==============================] - 4s 25ms/step - loss: 0.0136 - val_loss: 0.0081\n",
      "Epoch 66/100\n",
      "160/160 [==============================] - 4s 25ms/step - loss: 0.0195 - val_loss: 0.0062\n",
      "Epoch 67/100\n",
      "160/160 [==============================] - 4s 25ms/step - loss: 0.0264 - val_loss: 0.0112\n",
      "Epoch 68/100\n",
      "160/160 [==============================] - 4s 25ms/step - loss: 0.0079 - val_loss: 0.0082\n",
      "Epoch 69/100\n",
      "160/160 [==============================] - 4s 25ms/step - loss: 0.0121 - val_loss: 0.0088\n",
      "Epoch 70/100\n",
      "160/160 [==============================] - 4s 25ms/step - loss: 0.0134 - val_loss: 0.0265\n",
      "Epoch 71/100\n",
      "160/160 [==============================] - 4s 26ms/step - loss: 0.0110 - val_loss: 0.0079\n",
      "Epoch 72/100\n",
      "160/160 [==============================] - 4s 25ms/step - loss: 0.0108 - val_loss: 0.0078\n",
      "Epoch 73/100\n",
      "160/160 [==============================] - 5s 28ms/step - loss: 0.0107 - val_loss: 0.0141\n",
      "Epoch 74/100\n",
      "160/160 [==============================] - 4s 28ms/step - loss: 0.0098 - val_loss: 0.0077\n",
      "Epoch 75/100\n",
      "160/160 [==============================] - 4s 27ms/step - loss: 0.0130 - val_loss: 0.0269\n",
      "Epoch 76/100\n",
      "160/160 [==============================] - 4s 25ms/step - loss: 0.0242 - val_loss: 0.0540\n",
      "Epoch 77/100\n",
      "160/160 [==============================] - 4s 25ms/step - loss: 0.0947 - val_loss: 0.0363\n",
      "Epoch 78/100\n",
      "160/160 [==============================] - 4s 25ms/step - loss: 0.0125 - val_loss: 0.0090\n",
      "Epoch 79/100\n",
      "160/160 [==============================] - 4s 25ms/step - loss: 0.0111 - val_loss: 0.0073\n",
      "Epoch 80/100\n",
      "160/160 [==============================] - 4s 25ms/step - loss: 0.0109 - val_loss: 0.0103\n",
      "Epoch 81/100\n",
      "160/160 [==============================] - 4s 25ms/step - loss: 0.0161 - val_loss: 0.0071\n",
      "Epoch 82/100\n",
      "160/160 [==============================] - 4s 25ms/step - loss: 0.0165 - val_loss: 0.0045\n",
      "Epoch 83/100\n",
      "160/160 [==============================] - 4s 25ms/step - loss: 0.0054 - val_loss: 0.0063\n",
      "Epoch 84/100\n",
      "160/160 [==============================] - 4s 26ms/step - loss: 0.0062 - val_loss: 0.0046\n",
      "Epoch 85/100\n",
      "160/160 [==============================] - 4s 25ms/step - loss: 0.0051 - val_loss: 0.0043\n",
      "Epoch 86/100\n",
      "160/160 [==============================] - 4s 26ms/step - loss: 0.0094 - val_loss: 0.0069\n",
      "Epoch 87/100\n",
      "160/160 [==============================] - 4s 26ms/step - loss: 0.0074 - val_loss: 0.0056\n",
      "Epoch 88/100\n",
      "160/160 [==============================] - 4s 26ms/step - loss: 0.0118 - val_loss: 0.0056\n",
      "Epoch 89/100\n",
      "160/160 [==============================] - 4s 25ms/step - loss: 0.0110 - val_loss: 0.0118\n",
      "Epoch 90/100\n",
      "160/160 [==============================] - 4s 25ms/step - loss: 0.0203 - val_loss: 0.0053\n",
      "Epoch 91/100\n",
      "160/160 [==============================] - 4s 25ms/step - loss: 0.0114 - val_loss: 0.0103\n",
      "Epoch 92/100\n",
      "160/160 [==============================] - 4s 25ms/step - loss: 0.0159 - val_loss: 0.0074\n",
      "Epoch 93/100\n",
      "160/160 [==============================] - 4s 25ms/step - loss: 0.0066 - val_loss: 0.0101\n",
      "Epoch 94/100\n",
      "160/160 [==============================] - 4s 25ms/step - loss: 0.0097 - val_loss: 0.0085\n",
      "Epoch 95/100\n",
      "160/160 [==============================] - 4s 25ms/step - loss: 0.0106 - val_loss: 0.0218\n",
      "Epoch 96/100\n",
      "160/160 [==============================] - 4s 26ms/step - loss: 0.0339 - val_loss: 0.0191\n",
      "Epoch 97/100\n",
      "160/160 [==============================] - 4s 26ms/step - loss: 0.0412 - val_loss: 0.0288\n",
      "Epoch 98/100\n",
      "160/160 [==============================] - 4s 25ms/step - loss: 0.0360 - val_loss: 0.0070\n",
      "Epoch 99/100\n",
      "160/160 [==============================] - 4s 26ms/step - loss: 0.0099 - val_loss: 0.0059\n",
      "Epoch 100/100\n",
      "160/160 [==============================] - 4s 25ms/step - loss: 0.0063 - val_loss: 0.0064\n"
     ]
    },
    {
     "data": {
      "text/plain": [
       "'    \\nlogdir = os.path.join(\"logs\", datetime.datetime.now().strftime(\"%Y%m%d-%H%M%S\"))\\ntensorboard_callback = keras.callbacks.TensorBoard(logdir, histogram_freq=1)\\nhistory=model.fit(dataXR_train,dataY_train,\\n          validation_split=0.2,\\n          batch_size = 32,\\n          epochs = 5,\\n          callbacks=[tensorboard_callback], \\n          verbose = 1) # verbose =1 is for printing the output, history stores the history of training\\n          \\n'"
      ]
     },
     "execution_count": 5,
     "metadata": {
      "tags": []
     },
     "output_type": "execute_result"
    }
   ],
   "source": [
    "# Checkpoint for saving the model\n",
    "\n",
    "checkpointer = ModelCheckpoint(filepath='./weights.best.Autonn.hdf5', \n",
    "                               verbose = 0, \n",
    "                               save_best_only = True) # verbose =1 is for printing the output\n",
    "# checkpointer is used for saving the \n",
    "\n",
    "# Train the model\n",
    "\n",
    "history=model.fit(train_x,train_x,\n",
    "                  validation_data=(val_x, val_x),\n",
    "                  batch_size = 1,\n",
    "                  epochs = 100,\n",
    "                  callbacks = [checkpointer], \n",
    "                  verbose = 1) # verbose =1 is for printing the output, history stores the history of training\n",
    "'''    \n",
    "logdir = os.path.join(\"logs\", datetime.datetime.now().strftime(\"%Y%m%d-%H%M%S\"))\n",
    "tensorboard_callback = keras.callbacks.TensorBoard(logdir, histogram_freq=1)\n",
    "history=model.fit(dataXR_train,dataY_train,\n",
    "          validation_split=0.2,\n",
    "          batch_size = 32,\n",
    "          epochs = 5,\n",
    "          callbacks=[tensorboard_callback], \n",
    "          verbose = 1) # verbose =1 is for printing the output, history stores the history of training\n",
    "          \n",
    "'''\n",
    "#!cp /content/weights.best.CNNDep2.hdf5 \"/content/drive/My Drive/Research/Depression/dataCNN/\" # save the weights to the drive"
   ]
  },
  {
   "cell_type": "code",
   "execution_count": 6,
   "metadata": {
    "colab": {
     "base_uri": "https://localhost:8080/",
     "height": 281
    },
    "colab_type": "code",
    "id": "v04xDZlPiV9_",
    "outputId": "1b4314f0-5217-457c-b0db-863fc1eec93a"
   },
   "outputs": [
    {
     "data": {
      "image/png": "[encoded data removed]",
      "text/plain": [
       "<Figure size 432x288 with 1 Axes>"
      ]
     },
     "metadata": {
      "needs_background": "light",
      "tags": []
     },
     "output_type": "display_data"
    }
   ],
   "source": [
    "\n",
    "loss = history.history['loss']\n",
    "val_loss = history.history['val_loss']\n",
    "epochs = range(1, len(loss) + 1)\n",
    "\n",
    "plt.figure()\n",
    "plt.plot(epochs, loss, 'bo', label='Training loss')\n",
    "plt.plot(epochs, val_loss, 'b', label='Validation loss')\n",
    "plt.title('Training and validation loss')\n",
    "plt.legend()\n",
    "plt.show()"
   ]
  },
  {
   "cell_type": "code",
   "execution_count": 7,
   "metadata": {
    "colab": {
     "base_uri": "https://localhost:8080/",
     "height": 539
    },
    "colab_type": "code",
    "id": "PeYP8N0HVqxd",
    "outputId": "eaecf71c-5958-4208-c6b6-7f563663af7b"
   },
   "outputs": [
    {
     "data": {
      "text/plain": [
       "<Figure size 1440x288 with 0 Axes>"
      ]
     },
     "metadata": {
      "tags": []
     },
     "output_type": "display_data"
    },
    {
     "data": {
      "image/png": "[encoded data removed]",
      "text/plain": [
       "<Figure size 432x288 with 1 Axes>"
      ]
     },
     "metadata": {
      "needs_background": "light",
      "tags": []
     },
     "output_type": "display_data"
    },
    {
     "data": {
      "image/png": "[encoded data removed]",
      "text/plain": [
       "<Figure size 432x288 with 1 Axes>"
      ]
     },
     "metadata": {
      "needs_background": "light",
      "tags": []
     },
     "output_type": "display_data"
    }
   ],
   "source": [
    "\n",
    "decoded_imgs = model.predict(dataX[150:150+2,:,:,:])\n",
    "\n",
    "cmap = plt.get_cmap('RdBu')\n",
    "n = 1\n",
    "plt.figure(figsize=(20, 4))\n",
    "for i in range(1,n+1):\n",
    "    # display original\n",
    "    #ax = plt.subplot(2, n, i)\n",
    "    plt.figure()\n",
    "    plt.pcolormesh(dataX[150:150+2,:,:,:][i].reshape(14,1024),cmap=cmap)\n",
    "    #plt.gray()\n",
    "    #ax.get_xaxis().set_visible(False)\n",
    "    #ax.get_yaxis().set_visible(False)\n",
    "    plt.figure()\n",
    "    \n",
    "    #ax = plt.subplot(2, n, i + n)\n",
    "    plt.pcolormesh(decoded_imgs[i].reshape(14,1024),cmap=cmap)\n",
    "    #plt.gray()\n",
    "    #ax.get_xaxis().set_visible(False)\n",
    "    #ax.get_yaxis().set_visible(False)\n",
    "plt.show()\n",
    "\n",
    "\n"
   ]
  },
  {
   "cell_type": "code",
   "execution_count": 8,
   "metadata": {
    "colab": {
     "base_uri": "https://localhost:8080/",
     "height": 728
    },
    "colab_type": "code",
    "id": "-ruI75BNX8GL",
    "outputId": "e6998488-33dd-41e2-90e9-e8920cd78c26"
   },
   "outputs": [
    {
     "name": "stdout",
     "output_type": "stream",
     "text": [
      "Model: \"model_2\"\n",
      "_________________________________________________________________\n",
      "Layer (type)                 Output Shape              Param #   \n",
      "=================================================================\n",
      "input_1 (InputLayer)         (None, 14, 1024, 1)       0         \n",
      "_________________________________________________________________\n",
      "conv2d_1 (Conv2D)            (None, 14, 1024, 128)     1280      \n",
      "_________________________________________________________________\n",
      "leaky_re_lu_1 (LeakyReLU)    (None, 14, 1024, 128)     0         \n",
      "_________________________________________________________________\n",
      "max_pooling2d_1 (MaxPooling2 (None, 14, 512, 128)      0         \n",
      "_________________________________________________________________\n",
      "conv2d_2 (Conv2D)            (None, 14, 512, 64)       73792     \n",
      "_________________________________________________________________\n",
      "leaky_re_lu_2 (LeakyReLU)    (None, 14, 512, 64)       0         \n",
      "_________________________________________________________________\n",
      "max_pooling2d_2 (MaxPooling2 (None, 14, 256, 64)       0         \n",
      "_________________________________________________________________\n",
      "conv2d_3 (Conv2D)            (None, 14, 256, 32)       18464     \n",
      "_________________________________________________________________\n",
      "leaky_re_lu_3 (LeakyReLU)    (None, 14, 256, 32)       0         \n",
      "_________________________________________________________________\n",
      "max_pooling2d_3 (MaxPooling2 (None, 14, 128, 32)       0         \n",
      "_________________________________________________________________\n",
      "conv2d_4 (Conv2D)            (None, 14, 128, 8)        2312      \n",
      "_________________________________________________________________\n",
      "leaky_re_lu_4 (LeakyReLU)    (None, 14, 128, 8)        0         \n",
      "_________________________________________________________________\n",
      "max_pooling2d_4 (MaxPooling2 (None, 14, 64, 8)         0         \n",
      "_________________________________________________________________\n",
      "conv2d_5 (Conv2D)            (None, 14, 64, 2)         98        \n",
      "_________________________________________________________________\n",
      "leaky_re_lu_5 (LeakyReLU)    (None, 14, 64, 2)         0         \n",
      "_________________________________________________________________\n",
      "max_pooling2d_5 (MaxPooling2 (None, 14, 32, 2)         0         \n",
      "=================================================================\n",
      "Total params: 95,946\n",
      "Trainable params: 95,946\n",
      "Non-trainable params: 0\n",
      "_________________________________________________________________\n"
     ]
    }
   ],
   "source": [
    "model2=Model(inputs=model.input,outputs=encoder)\n",
    "model2.summary()"
   ]
  },
  {
   "cell_type": "code",
   "execution_count": 10,
   "metadata": {
    "colab": {
     "base_uri": "https://localhost:8080/",
     "height": 781
    },
    "colab_type": "code",
    "id": "dhBBiiN5RdC8",
    "outputId": "91965900-0be6-48f8-c0a0-940b9d0f1449"
   },
   "outputs": [
    {
     "name": "stdout",
     "output_type": "stream",
     "text": [
      "(201, 14, 32, 2)\n",
      "[0.15545732 0.15513527 0.15472338 0.15323478 0.17778614]\n",
      "(201, 896)\n",
      "[ 0.15545732 -0.10791297  0.15513527 -0.10782877  0.15472338]\n",
      "(201, 2)\n",
      "Explained variation per principal component: [0.46661112 0.16091318]\n"
     ]
    },
    {
     "data": {
      "text/plain": [
       "<matplotlib.legend.Legend at 0x7f90d034aef0>"
      ]
     },
     "execution_count": 10,
     "metadata": {
      "tags": []
     },
     "output_type": "execute_result"
    },
    {
     "data": {
      "text/plain": [
       "<Figure size 432x288 with 0 Axes>"
      ]
     },
     "metadata": {
      "tags": []
     },
     "output_type": "display_data"
    },
    {
     "data": {
      "image/png": "[encoded data removed]",
      "text/plain": [
       "<Figure size 720x720 with 1 Axes>"
      ]
     },
     "metadata": {
      "needs_background": "light",
      "tags": []
     },
     "output_type": "display_data"
    }
   ],
   "source": [
    "sizedata=201\n",
    "decoded_imgs = model2.predict(dataX[0:sizedata,:,:,:])\n",
    "print(np.shape(decoded_imgs))\n",
    "print(decoded_imgs[0,0,0:5,0])\n",
    "new=np.reshape(decoded_imgs,(sizedata,14*32*2))\n",
    "\n",
    "print(np.shape(new))\n",
    "print(new[0,0:5])\n",
    "new = StandardScaler().fit_transform(new) # normalizing the features\n",
    "\n",
    "new[dataY[0:sizedata]==1,:]=new[dataY[0:sizedata]==1,:]+1\n",
    "pca_new = PCA(n_components=2)\n",
    "new_pca = pca_new.fit_transform(new)\n",
    "print(np.shape(new_pca))\n",
    "new_pca_Df = pd.DataFrame(data = new_pca, columns = ['principal component 1', 'principal component 2'])\n",
    "print('Explained variation per principal component: {}'.format(pca_new.explained_variance_ratio_))\n",
    "plt.figure()\n",
    "plt.figure(figsize=(10,10))\n",
    "plt.xticks(fontsize=12)\n",
    "plt.yticks(fontsize=14)\n",
    "plt.xlabel('Principal Component - 1',fontsize=20)\n",
    "plt.ylabel('Principal Component - 2',fontsize=20)\n",
    "plt.title(\"Principal Component Analysis of Eye state Dataset\",fontsize=20)\n",
    "targets = [0,1]\n",
    "colors = ['r', 'g']\n",
    "for target, color in zip(targets,colors):\n",
    "    indicesToKeep = dataY[0:sizedata] == target\n",
    "    plt.scatter(new_pca_Df.loc[indicesToKeep, 'principal component 1']\n",
    "               , new_pca_Df.loc[indicesToKeep, 'principal component 2'], c = color, s = 50)\n",
    "\n",
    "plt.legend(targets,prop={'size': 15})"
   ]
  },
  {
   "cell_type": "code",
   "execution_count": 11,
   "metadata": {
    "colab": {
     "base_uri": "https://localhost:8080/",
     "height": 388
    },
    "colab_type": "code",
    "id": "JSdCVJTdifZY",
    "outputId": "73be4b4a-853e-4237-e0af-f6381fc543a6"
   },
   "outputs": [
    {
     "name": "stdout",
     "output_type": "stream",
     "text": [
      "(201, 20)\n",
      "[0.46661112 0.16091323 0.01235367 0.00964293 0.00962654 0.00953972\n",
      " 0.00890248 0.00879472 0.00875589 0.00873628 0.00870316 0.0085782\n",
      " 0.00845612 0.00843674 0.00841596 0.00838874 0.0083763  0.0083146\n",
      " 0.00817322 0.00777856]\n"
     ]
    },
    {
     "data": {
      "text/plain": [
       "Text(0, 0.5, 'Cumulative explained variance')"
      ]
     },
     "execution_count": 11,
     "metadata": {
      "tags": []
     },
     "output_type": "execute_result"
    },
    {
     "data": {
      "image/png": "[encoded data removed]",
      "text/plain": [
       "<Figure size 432x288 with 1 Axes>"
      ]
     },
     "metadata": {
      "needs_background": "light",
      "tags": []
     },
     "output_type": "display_data"
    }
   ],
   "source": [
    "pca_new = PCA(n_components=20)\n",
    "new_pca2 = pca_new.fit_transform(new)\n",
    "print(np.shape(new_pca2))\n",
    "print(pca_new.explained_variance_ratio_)\n",
    "plt.plot(np.cumsum(pca_new.explained_variance_ratio_))\n",
    "plt.xlabel('Number of components')\n",
    "plt.ylabel('Cumulative explained variance')"
   ]
  },
  {
   "cell_type": "code",
   "execution_count": 12,
   "metadata": {
    "colab": {
     "base_uri": "https://localhost:8080/",
     "height": 124
    },
    "colab_type": "code",
    "id": "NHrZ4tGbEW_r",
    "outputId": "deb37adf-044b-4ef5-d062-c5b97faa1dfb"
   },
   "outputs": [
    {
     "name": "stdout",
     "output_type": "stream",
     "text": [
      "[3 3 3 3 1 1 1 1 1 1 1 1 1 1 1 1 1 1 1 1 1 1 1 1 1 1 1 1 1 1 1 1 1 1 1 1 1\n",
      " 1 1 1 1 1 1 1 1 1 1 1 1 1 1 1 1 1 1 1 1 1 1 1 3 3 3 3 3 3 3 3 3 3 3 3 3 3\n",
      " 3 3 1 1 1 1 1 1 1 1 1 1 1 1 1 1 1 1 1 1 1 1 1 1 1 1 1 1 1 1 1 1 1 1 1 1 1\n",
      " 1 1 1 0 0 0 0 0 0 0 0 0 0 0 0 0 0 0 0 0 0 0 0 0 0 0 0 0 0 0 0 0 0 0 0 0 0\n",
      " 0 0 0 0 0 0 0 0 0 0 0 0 0 0 0 0 0 0 0 0 0 0 0 0 0 0 0 0 0 0 0 0 0 0 0 0 0\n",
      " 0 0 0 0 0 0 0 2 2 2 2 2 2 2 2 2]\n"
     ]
    }
   ],
   "source": [
    "from sklearn.cluster import KMeans \n",
    "clusters = 4\n",
    "\n",
    "kmeans = KMeans(n_clusters = clusters) \n",
    "kmeans.fit(new) \n",
    "print(kmeans.labels_)"
   ]
  },
  {
   "cell_type": "code",
   "execution_count": 23,
   "metadata": {
    "colab": {
     "base_uri": "https://localhost:8080/",
     "height": 52
    },
    "colab_type": "code",
    "id": "8NMuYv_fj-Bb",
    "outputId": "de08f299-f0e4-46d5-cdfc-b968eebddd97"
   },
   "outputs": [
    {
     "name": "stdout",
     "output_type": "stream",
     "text": [
      "\n",
      "Accuracy:  100.0 %\n"
     ]
    }
   ],
   "source": [
    "\n",
    "finalPrediction=((kmeans.labels_==1)+(kmeans.labels_==3)).astype(int)\n",
    "print(finalPrediction)\n",
    "print((dataY).astype(int))\n",
    "print(\"Accuracy: \",sum(finalPrediction==(dataY).astype(int))*100/201,\"%\")"
   ]
  },
  {
   "cell_type": "code",
   "execution_count": 0,
   "metadata": {
    "colab": {},
    "colab_type": "code",
    "id": "tn_IlipmsQS6"
   },
   "outputs": [],
   "source": [
    "model.save('/content/Topology.h5')\n",
    "model.save_weights('/content/Topology.hdf5')"
   ]
  }
 ],
 "metadata": {
  "accelerator": "GPU",
  "colab": {
   "collapsed_sections": [],
   "name": "trainAutoEncoderTopology.ipynb",
   "provenance": []
  },
  "kernelspec": {
   "display_name": "Python 3",
   "language": "python",
   "name": "python3"
  },
  "language_info": {
   "codemirror_mode": {
    "name": "ipython",
    "version": 3
   },
   "file_extension": ".py",
   "mimetype": "text/x-python",
   "name": "python",
   "nbconvert_exporter": "python",
   "pygments_lexer": "ipython3",
   "version": "3.7.9"
  }
 },
 "nbformat": 4,
 "nbformat_minor": 1
}
